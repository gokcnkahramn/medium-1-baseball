{
 "cells": [
  {
   "cell_type": "code",
   "execution_count": 7,
   "id": "28b72c6e",
   "metadata": {},
   "outputs": [],
   "source": [
    "import warnings\n",
    "warnings.simplefilter(action='ignore', category=FutureWarning)\n",
    "\n",
    "from pybaseball import statcast\n",
    "import pandas as pd\n",
    "import numpy as np\n",
    "from scipy.stats import mannwhitneyu\n",
    "from statsmodels.stats.proportion import proportions_ztest\n",
    "from scipy.stats import fisher_exact\n",
    "import statsmodels.formula.api as smf\n",
    "import statsmodels.api as sm\n",
    "import seaborn as sns\n",
    "import matplotlib.pyplot as plt\n",
    "\n",
    "positive_events = {\n",
    "        'walk', 'single', 'double', 'triple', 'home_run',\n",
    "        'hit_by_pitch', 'catcher_interf'\n",
    "}\n",
    "negative_events = {\n",
    "        'field_out', 'strikeout', 'strikeout_double_play',\n",
    "        'grounded_into_double_play', 'double_play', 'triple_play',\n",
    "        'fielders_choice_out', 'force_out', 'sac_bunt',\n",
    "        'sac_fly', 'sac_fly_double_play', 'field_error'\n",
    "}\n",
    "\n",
    "def classify_event(event):\n",
    "\n",
    "    if event in positive_events:\n",
    "        return \"positive\"\n",
    "    elif event in negative_events:\n",
    "        return \"negative\"\n",
    "    else:\n",
    "        return \"neutral\"\n",
    "\n",
    "def classify_count_state(row):\n",
    "    if row['balls'] > row['strikes']:\n",
    "        return 'hitter_adv'\n",
    "    elif row['balls'] == row['strikes']:\n",
    "        return 'even'\n",
    "    else:\n",
    "        return 'pitcher_adv'\n",
    "\n",
    "def analyze_and_compare(year, min_pitches=30):\n",
    "    print(f\"\\n=== Analyzing season {year} ===\")\n",
    "    \n",
    "    start_date = f\"{year}-03-01\"\n",
    "    end_date = f\"{year}-10-01\"\n",
    "    \n",
    "    data = statcast(start_date, end_date)\n",
    "    cols = ['game_date', 'batter', 'pitcher', 'balls', 'strikes', 'pitch_type', 'events']\n",
    "    df = data[cols].dropna(subset=['events']).copy()\n",
    "\n",
    "    # Classify events and count states\n",
    "    df['event_type'] = df['events'].apply(classify_event)\n",
    "    df = df[df['event_type'] != 'neutral'].copy()\n",
    "    df['count_state'] = df.apply(classify_count_state, axis=1)\n",
    "    df['is_positive'] = (df['event_type'] == 'positive').astype(int)\n",
    "\n",
    "    # Aggregate positive rate per batter on all plays\n",
    "    agg = df.groupby('batter')['is_positive'].agg(['sum', 'count']).reset_index()\n",
    "    agg['positive_rate'] = agg['sum'] / agg['count']\n",
    "    agg_filtered = agg[agg['count'] >= min_pitches].copy()\n",
    "\n",
    "    if agg_filtered.empty:\n",
    "        print(f\"No batters with minimum {min_pitches} plays.\")\n",
    "        return None, None, None, None\n",
    "\n",
    "    threshold = agg_filtered['positive_rate'].quantile(0.75)\n",
    "    special = agg_filtered[agg_filtered['positive_rate'] >= threshold]\n",
    "    others = agg_filtered[agg_filtered['positive_rate'] < threshold]\n",
    "\n",
    "    if special.empty or others.empty:\n",
    "        print(\"Special or others group is empty, cannot perform tests.\")\n",
    "        return None, None, None, None\n",
    "\n",
    "    # Add is_special to df\n",
    "    df['is_special'] = df['batter'].isin(special['batter']).astype(int)\n",
    "\n",
    "    # Weighted positive ratio by count_state and group\n",
    "    weighted_ratios = df.groupby(['count_state', 'is_special']).apply(\n",
    "        lambda x: x['is_positive'].sum() / x.shape[0]\n",
    "    ).reset_index(name='positive_ratio')\n",
    "\n",
    "    weighted_ratios['group'] = weighted_ratios['is_special'].map({0: 'others', 1: 'special'})\n",
    "    weighted_ratios = weighted_ratios.drop(columns='is_special')\n",
    "\n",
    "    # Distribution of events by special vs others and count_state\n",
    "    pivot_table = pd.crosstab(\n",
    "        [df['count_state'], df['events']],\n",
    "        df['is_special'],\n",
    "        normalize='index'\n",
    "    ).rename(columns={0: 'others', 1: 'special'})\n",
    "\n",
    "    # Mann-Whitney U test on positive_rate per batter\n",
    "    stat_mwu, p_mwu = mannwhitneyu(special['positive_rate'], others['positive_rate'], alternative='greater')\n",
    "\n",
    "    # Proportions z-test & Fisher exact on all plays\n",
    "    special_rows = df[df['is_special'] == 1]\n",
    "    other_rows = df[df['is_special'] == 0]\n",
    "\n",
    "    special_pos = special_rows['is_positive'].sum()\n",
    "    special_n = special_rows.shape[0]\n",
    "    other_pos = other_rows['is_positive'].sum()\n",
    "    other_n = other_rows.shape[0]\n",
    "\n",
    "    count = [special_pos, other_pos]\n",
    "    nobs = [special_n, other_n]\n",
    "\n",
    "    stat_z, p_z = proportions_ztest(count, nobs, alternative='larger')\n",
    "\n",
    "    contingency_table = [\n",
    "        [int(special_pos), int(special_n - special_pos)],\n",
    "        [int(other_pos), int(other_n - other_pos)]\n",
    "    ]\n",
    "    oddsratio, p_fisher = fisher_exact(contingency_table, alternative='greater')\n",
    "\n",
    "    # Logistic regression with cluster-robust SE by batter\n",
    "    try:\n",
    "        logit = smf.logit('is_positive ~ is_special', data=df).fit(disp=False, cov_type='cluster', cov_kwds={'groups': df['batter']})\n",
    "        logit_summary = logit.summary2().tables[1]\n",
    "    except Exception as e:\n",
    "        logit_summary = None\n",
    "        print(f\"Logistic regression failed: {e}\")\n",
    "\n",
    "    # GEE model clustered by batter\n",
    "    try:\n",
    "        gee = smf.gee('is_positive ~ is_special', groups='batter', data=df, family=sm.families.Binomial()).fit()\n",
    "        gee_summary = gee.summary2().tables[1]\n",
    "    except Exception as e:\n",
    "        gee_summary = None\n",
    "        print(f\"GEE model failed: {e}\")\n",
    "\n",
    "    # Print key results\n",
    "    print(f\"Special group threshold positive_rate >= {threshold:.4f}\")\n",
    "    print(f\"Mann-Whitney U test: stat={stat_mwu:.4f}, p={p_mwu:.4g}\")\n",
    "    print(f\"Proportions Z-test: stat={stat_z:.4f}, p={p_z:.4g}\")\n",
    "    print(f\"Fisher's Exact test: oddsratio={oddsratio:.4f}, p={p_fisher:.4g}\")\n",
    "\n",
    "    # Count state bazlı positive event yüzdeleri\n",
    "    count_state_ratios = (\n",
    "        df.groupby('count_state')['is_positive']\n",
    "          .mean()\n",
    "          .reset_index(name='positive_event_percentage')\n",
    "    )\n",
    "    print(\"\\nPositive Event Percentages by Count State:\")\n",
    "    for _, row in count_state_ratios.iterrows():\n",
    "        print(f\"  {row['count_state']}: {row['positive_event_percentage']*100:.2f}%\")\n",
    "\n",
    "\n",
    "    return df, pivot_table, weighted_ratios, {\n",
    "        'mwu_stat': stat_mwu,\n",
    "        'mwu_p': p_mwu,\n",
    "        'z_stat': stat_z,\n",
    "        'z_p': p_z,\n",
    "        'fisher_oddsratio': oddsratio,\n",
    "        'fisher_p': p_fisher,\n",
    "        'logit_summary': logit_summary,\n",
    "        'gee_summary': gee_summary,\n",
    "        'special_threshold': threshold,\n",
    "        'special_count': len(special),\n",
    "        'others_count': len(others),\n",
    "    }\n",
    "\n",
    "def plot_positive_event_distribution(df, year):\n",
    "    # Positive event'leri filtrele\n",
    "    df_positive = df[df['events'].isin(positive_events)].copy()\n",
    "\n",
    "    # Grup isimleri\n",
    "    df_positive['group'] = df_positive['is_special'].map({0: 'others', 1: 'special'})\n",
    "\n",
    "    # Pivot tablo (normalize edilmiş)\n",
    "    pivot = df_positive.groupby(['group', 'events']).size().reset_index(name='count')\n",
    "    pivot['ratio'] = pivot.groupby('group')['count'].transform(lambda x: x / x.sum())\n",
    "\n",
    "    print(f\"\\n{year} Positive Event Distribution Table:\")\n",
    "    print(pivot.pivot(index='events', columns='group', values='ratio'))\n",
    "\n",
    "    # Grafik\n",
    "    plt.figure(figsize=(8,5))\n",
    "    sns.barplot(data=pivot, x='events', y='ratio', hue='group')\n",
    "    plt.title(f'{year} Season: Positive Event Distribution (Sum=1 per Group)')\n",
    "    plt.ylabel('Ratio')\n",
    "    plt.ylim(0, 1)\n",
    "    plt.legend(title='Group')\n",
    "    plt.tight_layout()\n",
    "    plt.show()"
   ]
  },
  {
   "cell_type": "markdown",
   "id": "7f401bb5",
   "metadata": {},
   "source": [
    "2020"
   ]
  },
  {
   "cell_type": "code",
   "execution_count": 8,
   "id": "24729ca0",
   "metadata": {},
   "outputs": [
    {
     "name": "stdout",
     "output_type": "stream",
     "text": [
      "\n",
      "=== Analyzing season 2020 ===\n",
      "This is a large query, it may take a moment to complete\n"
     ]
    },
    {
     "name": "stderr",
     "output_type": "stream",
     "text": [
      "c:\\Users\\Megad\\AppData\\Local\\Programs\\Python\\Python313\\Lib\\site-packages\\pybaseball\\statcast.py:50: UserWarning: \n",
      "That's a nice request you got there. It'd be a shame if something were to happen to it.\n",
      "We strongly recommend that you enable caching before running this. It's as simple as `pybaseball.cache.enable()`.\n",
      "Since the Statcast requests can take a *really* long time to run, if something were to happen, like: a disconnect;\n",
      "gremlins; computer repair by associates of Rudy Giuliani; electromagnetic interference from metal trash cans; etc.;\n",
      "you could lose a lot of progress. Enabling caching will allow you to immediately recover all the successful\n",
      "subqueries if that happens.\n",
      "  warnings.warn(_OVERSIZE_WARNING)\n"
     ]
    },
    {
     "name": "stdout",
     "output_type": "stream",
     "text": [
      "Skipping offseason dates\n"
     ]
    },
    {
     "name": "stderr",
     "output_type": "stream",
     "text": [
      "100%|██████████| 71/71 [01:10<00:00,  1.01it/s]\n"
     ]
    },
    {
     "name": "stdout",
     "output_type": "stream",
     "text": [
      "Special group threshold positive_rate >= 0.3500\n",
      "Mann-Whitney U test: stat=40599.0000, p=3.268e-59\n",
      "Proportions Z-test: stat=20.1976, p=5.139e-91\n",
      "Fisher's Exact test: oddsratio=1.4350, p=1.701e-89\n",
      "\n",
      "Positive Event Percentages by Count State:\n",
      "  even: 27.00%\n",
      "  hitter_adv: 47.33%\n",
      "  pitcher_adv: 21.06%\n",
      "\n",
      "2020 Positive Event Distribution Table:\n",
      "group             others   special\n",
      "events                            \n",
      "catcher_interf  0.001606  0.001796\n",
      "double          0.132281  0.134963\n",
      "hit_by_pitch    0.038343  0.039508\n",
      "home_run        0.107766  0.110236\n",
      "single          0.440075  0.404614\n",
      "triple          0.011245  0.011466\n",
      "walk            0.268683  0.297417\n"
     ]
    },
    {
     "data": {
      "image/png": "[encoded data removed]",
      "text/plain": [
       "<Figure size 800x500 with 1 Axes>"
      ]
     },
     "metadata": {},
     "output_type": "display_data"
    },
    {
     "name": "stdout",
     "output_type": "stream",
     "text": [
      "\n",
      "---- 2020 Sezonu ----\n",
      "Special threshold (positive_rate): 0.3500\n",
      "Special oyuncu sayısı: 117\n",
      "Others oyuncu sayısı: 347\n",
      "Mann-Whitney U testi p değeri: 3.268e-59\n",
      "Proportions Z-testi p değeri: 5.139e-91\n",
      "Fisher Exact testi p değeri: 1.701e-89\n",
      "Logistic Regression (is_special) coef ve p-değeri:\n",
      "  coef=0.3612, p=1.439e-153\n",
      "GEE Model (is_special) coef ve p-değeri:\n",
      "  coef=0.3612, p=7.861e-154\n"
     ]
    }
   ],
   "source": [
    "years = 2020\n",
    "all_results = {}\n",
    "\n",
    "df, pivot, weighted_ratios, tests = analyze_and_compare(years)\n",
    "if df is not None:\n",
    "    all_results[years] = {\n",
    "        'df': df,\n",
    "        'pivot': pivot,\n",
    "        'weighted_ratios': weighted_ratios,\n",
    "        'tests': tests\n",
    "    }\n",
    "    plot_positive_event_distribution(df, years)\n",
    "\n",
    "# Özet istatistik sonuçları:\n",
    "for y, res in all_results.items():\n",
    "    print(f\"\\n---- {y} Sezonu ----\")\n",
    "    print(f\"Special threshold (positive_rate): {res['tests']['special_threshold']:.4f}\")\n",
    "    print(f\"Special oyuncu sayısı: {res['tests']['special_count']}\")\n",
    "    print(f\"Others oyuncu sayısı: {res['tests']['others_count']}\")\n",
    "    print(f\"Mann-Whitney U testi p değeri: {res['tests']['mwu_p']:.4g}\")\n",
    "    print(f\"Proportions Z-testi p değeri: {res['tests']['z_p']:.4g}\")\n",
    "    print(f\"Fisher Exact testi p değeri: {res['tests']['fisher_p']:.4g}\")\n",
    "\n",
    "    print(\"Logistic Regression (is_special) coef ve p-değeri:\")\n",
    "    if res['tests']['logit_summary'] is not None:\n",
    "        coef = res['tests']['logit_summary'].loc['is_special']\n",
    "        print(f\"  coef={coef['Coef.']:.4f}, p={coef['P>|z|']:.4g}\")\n",
    "    else:\n",
    "        print(\"  Model başarısız.\")\n",
    "\n",
    "    print(\"GEE Model (is_special) coef ve p-değeri:\")\n",
    "    if res['tests']['gee_summary'] is not None:\n",
    "        coef = res['tests']['gee_summary'].loc['is_special']\n",
    "        print(f\"  coef={coef['Coef.']:.4f}, p={coef['P>|z|']:.4g}\")\n",
    "    else:\n",
    "        print(\"  Model başarısız.\")\n"
   ]
  },
  {
   "cell_type": "markdown",
   "id": "0ac256fc",
   "metadata": {},
   "source": [
    "2021"
   ]
  },
  {
   "cell_type": "code",
   "execution_count": 9,
   "id": "a7f40a8d",
   "metadata": {},
   "outputs": [
    {
     "name": "stdout",
     "output_type": "stream",
     "text": [
      "\n",
      "=== Analyzing season 2021 ===\n",
      "This is a large query, it may take a moment to complete\n"
     ]
    },
    {
     "name": "stderr",
     "output_type": "stream",
     "text": [
      "c:\\Users\\Megad\\AppData\\Local\\Programs\\Python\\Python313\\Lib\\site-packages\\pybaseball\\statcast.py:50: UserWarning: \n",
      "That's a nice request you got there. It'd be a shame if something were to happen to it.\n",
      "We strongly recommend that you enable caching before running this. It's as simple as `pybaseball.cache.enable()`.\n",
      "Since the Statcast requests can take a *really* long time to run, if something were to happen, like: a disconnect;\n",
      "gremlins; computer repair by associates of Rudy Giuliani; electromagnetic interference from metal trash cans; etc.;\n",
      "you could lose a lot of progress. Enabling caching will allow you to immediately recover all the successful\n",
      "subqueries if that happens.\n",
      "  warnings.warn(_OVERSIZE_WARNING)\n"
     ]
    },
    {
     "name": "stdout",
     "output_type": "stream",
     "text": [
      "Skipping offseason dates\n"
     ]
    },
    {
     "name": "stderr",
     "output_type": "stream",
     "text": [
      "100%|██████████| 201/201 [03:00<00:00,  1.11it/s]\n"
     ]
    },
    {
     "name": "stdout",
     "output_type": "stream",
     "text": [
      "Special group threshold positive_rate >= 0.3336\n",
      "Mann-Whitney U test: stat=81675.0000, p=6.649e-83\n",
      "Proportions Z-test: stat=29.9377, p=3.186e-197\n",
      "Fisher's Exact test: oddsratio=1.3508, p=2.03e-195\n",
      "\n",
      "Positive Event Percentages by Count State:\n",
      "  even: 28.10%\n",
      "  hitter_adv: 47.81%\n",
      "  pitcher_adv: 19.67%\n",
      "\n",
      "2021 Positive Event Distribution Table:\n",
      "group             others   special\n",
      "events                            \n",
      "catcher_interf  0.001157  0.000881\n",
      "double          0.142353  0.135821\n",
      "hit_by_pitch    0.037572  0.037759\n",
      "home_run        0.101394  0.107552\n",
      "single          0.447912  0.425202\n",
      "triple          0.012864  0.011132\n",
      "walk            0.256749  0.281653\n"
     ]
    },
    {
     "data": {
      "image/png": "[encoded data removed]",
      "text/plain": [
       "<Figure size 800x500 with 1 Axes>"
      ]
     },
     "metadata": {},
     "output_type": "display_data"
    },
    {
     "name": "stdout",
     "output_type": "stream",
     "text": [
      "\n",
      "---- 2021 Sezonu ----\n",
      "Special threshold (positive_rate): 0.3336\n",
      "Special oyuncu sayısı: 165\n",
      "Others oyuncu sayısı: 495\n",
      "Mann-Whitney U testi p değeri: 6.649e-83\n",
      "Proportions Z-testi p değeri: 3.186e-197\n",
      "Fisher Exact testi p değeri: 2.03e-195\n",
      "Logistic Regression (is_special) coef ve p-değeri:\n",
      "  coef=0.3007, p=2.006e-180\n",
      "GEE Model (is_special) coef ve p-değeri:\n",
      "  coef=0.3007, p=1.481e-180\n"
     ]
    }
   ],
   "source": [
    "years = 2021\n",
    "all_results = {}\n",
    "\n",
    "df, pivot, weighted_ratios, tests = analyze_and_compare(years)\n",
    "if df is not None:\n",
    "    all_results[years] = {\n",
    "        'df': df,\n",
    "        'pivot': pivot,\n",
    "        'weighted_ratios': weighted_ratios,\n",
    "        'tests': tests\n",
    "    }\n",
    "    plot_positive_event_distribution(df, years)\n",
    "\n",
    "# Özet istatistik sonuçları:\n",
    "for y, res in all_results.items():\n",
    "    print(f\"\\n---- {y} Sezonu ----\")\n",
    "    print(f\"Special threshold (positive_rate): {res['tests']['special_threshold']:.4f}\")\n",
    "    print(f\"Special oyuncu sayısı: {res['tests']['special_count']}\")\n",
    "    print(f\"Others oyuncu sayısı: {res['tests']['others_count']}\")\n",
    "    print(f\"Mann-Whitney U testi p değeri: {res['tests']['mwu_p']:.4g}\")\n",
    "    print(f\"Proportions Z-testi p değeri: {res['tests']['z_p']:.4g}\")\n",
    "    print(f\"Fisher Exact testi p değeri: {res['tests']['fisher_p']:.4g}\")\n",
    "\n",
    "    print(\"Logistic Regression (is_special) coef ve p-değeri:\")\n",
    "    if res['tests']['logit_summary'] is not None:\n",
    "        coef = res['tests']['logit_summary'].loc['is_special']\n",
    "        print(f\"  coef={coef['Coef.']:.4f}, p={coef['P>|z|']:.4g}\")\n",
    "    else:\n",
    "        print(\"  Model başarısız.\")\n",
    "\n",
    "    print(\"GEE Model (is_special) coef ve p-değeri:\")\n",
    "    if res['tests']['gee_summary'] is not None:\n",
    "        coef = res['tests']['gee_summary'].loc['is_special']\n",
    "        print(f\"  coef={coef['Coef.']:.4f}, p={coef['P>|z|']:.4g}\")\n",
    "    else:\n",
    "        print(\"  Model başarısız.\")\n"
   ]
  },
  {
   "cell_type": "markdown",
   "id": "28183571",
   "metadata": {},
   "source": [
    "2022"
   ]
  },
  {
   "cell_type": "code",
   "execution_count": 10,
   "id": "13f495a5",
   "metadata": {},
   "outputs": [
    {
     "name": "stdout",
     "output_type": "stream",
     "text": [
      "\n",
      "=== Analyzing season 2022 ===\n",
      "This is a large query, it may take a moment to complete\n"
     ]
    },
    {
     "name": "stderr",
     "output_type": "stream",
     "text": [
      "c:\\Users\\Megad\\AppData\\Local\\Programs\\Python\\Python313\\Lib\\site-packages\\pybaseball\\statcast.py:50: UserWarning: \n",
      "That's a nice request you got there. It'd be a shame if something were to happen to it.\n",
      "We strongly recommend that you enable caching before running this. It's as simple as `pybaseball.cache.enable()`.\n",
      "Since the Statcast requests can take a *really* long time to run, if something were to happen, like: a disconnect;\n",
      "gremlins; computer repair by associates of Rudy Giuliani; electromagnetic interference from metal trash cans; etc.;\n",
      "you could lose a lot of progress. Enabling caching will allow you to immediately recover all the successful\n",
      "subqueries if that happens.\n",
      "  warnings.warn(_OVERSIZE_WARNING)\n"
     ]
    },
    {
     "name": "stdout",
     "output_type": "stream",
     "text": [
      "Skipping offseason dates\n"
     ]
    },
    {
     "name": "stderr",
     "output_type": "stream",
     "text": [
      "100%|██████████| 201/201 [04:00<00:00,  1.19s/it]\n"
     ]
    },
    {
     "name": "stdout",
     "output_type": "stream",
     "text": [
      "Special group threshold positive_rate >= 0.3276\n",
      "Mann-Whitney U test: stat=73476.0000, p=7.345e-79\n",
      "Proportions Z-test: stat=25.9125, p=2.408e-148\n",
      "Fisher's Exact test: oddsratio=1.3063, p=1.179e-146\n",
      "\n",
      "Positive Event Percentages by Count State:\n",
      "  even: 27.81%\n",
      "  hitter_adv: 47.36%\n",
      "  pitcher_adv: 20.07%\n",
      "\n",
      "2022 Positive Event Distribution Table:\n",
      "group             others   special\n",
      "events                            \n",
      "catcher_interf  0.001107  0.001562\n",
      "double          0.143195  0.141085\n",
      "hit_by_pitch    0.035031  0.040244\n",
      "home_run        0.093819  0.096384\n",
      "single          0.465120  0.441494\n",
      "triple          0.012357  0.010337\n",
      "walk            0.249371  0.268893\n"
     ]
    },
    {
     "data": {
      "image/png": "[encoded data removed]",
      "text/plain": [
       "<Figure size 800x500 with 1 Axes>"
      ]
     },
     "metadata": {},
     "output_type": "display_data"
    },
    {
     "name": "stdout",
     "output_type": "stream",
     "text": [
      "\n",
      "---- 2022 Sezonu ----\n",
      "Special threshold (positive_rate): 0.3276\n",
      "Special oyuncu sayısı: 157\n",
      "Others oyuncu sayısı: 468\n",
      "Mann-Whitney U testi p değeri: 7.345e-79\n",
      "Proportions Z-testi p değeri: 2.408e-148\n",
      "Fisher Exact testi p değeri: 1.179e-146\n",
      "Logistic Regression (is_special) coef ve p-değeri:\n",
      "  coef=0.2672, p=2.488e-141\n",
      "GEE Model (is_special) coef ve p-değeri:\n",
      "  coef=0.2672, p=2.046e-141\n"
     ]
    }
   ],
   "source": [
    "years = 2022\n",
    "all_results = {}\n",
    "\n",
    "df, pivot, weighted_ratios, tests = analyze_and_compare(years)\n",
    "if df is not None:\n",
    "    all_results[years] = {\n",
    "        'df': df,\n",
    "        'pivot': pivot,\n",
    "        'weighted_ratios': weighted_ratios,\n",
    "        'tests': tests\n",
    "    }\n",
    "    plot_positive_event_distribution(df, years)\n",
    "\n",
    "# Özet istatistik sonuçları:\n",
    "for y, res in all_results.items():\n",
    "    print(f\"\\n---- {y} Sezonu ----\")\n",
    "    print(f\"Special threshold (positive_rate): {res['tests']['special_threshold']:.4f}\")\n",
    "    print(f\"Special oyuncu sayısı: {res['tests']['special_count']}\")\n",
    "    print(f\"Others oyuncu sayısı: {res['tests']['others_count']}\")\n",
    "    print(f\"Mann-Whitney U testi p değeri: {res['tests']['mwu_p']:.4g}\")\n",
    "    print(f\"Proportions Z-testi p değeri: {res['tests']['z_p']:.4g}\")\n",
    "    print(f\"Fisher Exact testi p değeri: {res['tests']['fisher_p']:.4g}\")\n",
    "\n",
    "    print(\"Logistic Regression (is_special) coef ve p-değeri:\")\n",
    "    if res['tests']['logit_summary'] is not None:\n",
    "        coef = res['tests']['logit_summary'].loc['is_special']\n",
    "        print(f\"  coef={coef['Coef.']:.4f}, p={coef['P>|z|']:.4g}\")\n",
    "    else:\n",
    "        print(\"  Model başarısız.\")\n",
    "\n",
    "    print(\"GEE Model (is_special) coef ve p-değeri:\")\n",
    "    if res['tests']['gee_summary'] is not None:\n",
    "        coef = res['tests']['gee_summary'].loc['is_special']\n",
    "        print(f\"  coef={coef['Coef.']:.4f}, p={coef['P>|z|']:.4g}\")\n",
    "    else:\n",
    "        print(\"  Model başarısız.\")\n"
   ]
  },
  {
   "cell_type": "markdown",
   "id": "4355124a",
   "metadata": {},
   "source": [
    "2023"
   ]
  },
  {
   "cell_type": "code",
   "execution_count": 11,
   "id": "fafb2bbd",
   "metadata": {},
   "outputs": [
    {
     "name": "stdout",
     "output_type": "stream",
     "text": [
      "\n",
      "=== Analyzing season 2023 ===\n",
      "This is a large query, it may take a moment to complete\n"
     ]
    },
    {
     "name": "stderr",
     "output_type": "stream",
     "text": [
      "c:\\Users\\Megad\\AppData\\Local\\Programs\\Python\\Python313\\Lib\\site-packages\\pybaseball\\statcast.py:50: UserWarning: \n",
      "That's a nice request you got there. It'd be a shame if something were to happen to it.\n",
      "We strongly recommend that you enable caching before running this. It's as simple as `pybaseball.cache.enable()`.\n",
      "Since the Statcast requests can take a *really* long time to run, if something were to happen, like: a disconnect;\n",
      "gremlins; computer repair by associates of Rudy Giuliani; electromagnetic interference from metal trash cans; etc.;\n",
      "you could lose a lot of progress. Enabling caching will allow you to immediately recover all the successful\n",
      "subqueries if that happens.\n",
      "  warnings.warn(_OVERSIZE_WARNING)\n"
     ]
    },
    {
     "name": "stdout",
     "output_type": "stream",
     "text": [
      "Skipping offseason dates\n"
     ]
    },
    {
     "name": "stderr",
     "output_type": "stream",
     "text": [
      "100%|██████████| 201/201 [04:45<00:00,  1.42s/it]\n"
     ]
    },
    {
     "name": "stdout",
     "output_type": "stream",
     "text": [
      "Special group threshold positive_rate >= 0.3333\n",
      "Mann-Whitney U test: stat=69309.0000, p=8.922e-77\n",
      "Proportions Z-test: stat=25.3948, p=1.438e-142\n",
      "Fisher's Exact test: oddsratio=1.2958, p=4.37e-141\n",
      "\n",
      "Positive Event Percentages by Count State:\n",
      "  even: 28.37%\n",
      "  hitter_adv: 47.54%\n",
      "  pitcher_adv: 20.65%\n",
      "\n",
      "2023 Positive Event Distribution Table:\n",
      "group             others   special\n",
      "events                            \n",
      "catcher_interf  0.001776  0.001375\n",
      "double          0.146782  0.132434\n",
      "hit_by_pitch    0.034797  0.039429\n",
      "home_run        0.097263  0.102009\n",
      "single          0.457928  0.423604\n",
      "triple          0.012528  0.011886\n",
      "walk            0.248927  0.289262\n"
     ]
    },
    {
     "data": {
      "image/png": "[encoded data removed]",
      "text/plain": [
       "<Figure size 800x500 with 1 Axes>"
      ]
     },
     "metadata": {},
     "output_type": "display_data"
    },
    {
     "name": "stdout",
     "output_type": "stream",
     "text": [
      "\n",
      "---- 2023 Sezonu ----\n",
      "Special threshold (positive_rate): 0.3333\n",
      "Special oyuncu sayısı: 153\n",
      "Others oyuncu sayısı: 453\n",
      "Mann-Whitney U testi p değeri: 8.922e-77\n",
      "Proportions Z-testi p değeri: 1.438e-142\n",
      "Fisher Exact testi p değeri: 4.37e-141\n",
      "Logistic Regression (is_special) coef ve p-değeri:\n",
      "  coef=0.2591, p=7.302e-147\n",
      "GEE Model (is_special) coef ve p-değeri:\n",
      "  coef=0.2591, p=5.858e-147\n"
     ]
    }
   ],
   "source": [
    "years = 2023\n",
    "all_results = {}\n",
    "\n",
    "df, pivot, weighted_ratios, tests = analyze_and_compare(years)\n",
    "if df is not None:\n",
    "    all_results[years] = {\n",
    "        'df': df,\n",
    "        'pivot': pivot,\n",
    "        'weighted_ratios': weighted_ratios,\n",
    "        'tests': tests\n",
    "    }\n",
    "    plot_positive_event_distribution(df, years)\n",
    "\n",
    "# Özet istatistik sonuçları:\n",
    "for y, res in all_results.items():\n",
    "    print(f\"\\n---- {y} Sezonu ----\")\n",
    "    print(f\"Special threshold (positive_rate): {res['tests']['special_threshold']:.4f}\")\n",
    "    print(f\"Special oyuncu sayısı: {res['tests']['special_count']}\")\n",
    "    print(f\"Others oyuncu sayısı: {res['tests']['others_count']}\")\n",
    "    print(f\"Mann-Whitney U testi p değeri: {res['tests']['mwu_p']:.4g}\")\n",
    "    print(f\"Proportions Z-testi p değeri: {res['tests']['z_p']:.4g}\")\n",
    "    print(f\"Fisher Exact testi p değeri: {res['tests']['fisher_p']:.4g}\")\n",
    "\n",
    "    print(\"Logistic Regression (is_special) coef ve p-değeri:\")\n",
    "    if res['tests']['logit_summary'] is not None:\n",
    "        coef = res['tests']['logit_summary'].loc['is_special']\n",
    "        print(f\"  coef={coef['Coef.']:.4f}, p={coef['P>|z|']:.4g}\")\n",
    "    else:\n",
    "        print(\"  Model başarısız.\")\n",
    "\n",
    "    print(\"GEE Model (is_special) coef ve p-değeri:\")\n",
    "    if res['tests']['gee_summary'] is not None:\n",
    "        coef = res['tests']['gee_summary'].loc['is_special']\n",
    "        print(f\"  coef={coef['Coef.']:.4f}, p={coef['P>|z|']:.4g}\")\n",
    "    else:\n",
    "        print(\"  Model başarısız.\")\n"
   ]
  },
  {
   "cell_type": "markdown",
   "id": "6a64d700",
   "metadata": {},
   "source": [
    "2024"
   ]
  },
  {
   "cell_type": "code",
   "execution_count": 12,
   "id": "df658a4f",
   "metadata": {},
   "outputs": [
    {
     "name": "stdout",
     "output_type": "stream",
     "text": [
      "\n",
      "=== Analyzing season 2024 ===\n",
      "This is a large query, it may take a moment to complete\n"
     ]
    },
    {
     "name": "stderr",
     "output_type": "stream",
     "text": [
      "c:\\Users\\Megad\\AppData\\Local\\Programs\\Python\\Python313\\Lib\\site-packages\\pybaseball\\statcast.py:50: UserWarning: \n",
      "That's a nice request you got there. It'd be a shame if something were to happen to it.\n",
      "We strongly recommend that you enable caching before running this. It's as simple as `pybaseball.cache.enable()`.\n",
      "Since the Statcast requests can take a *really* long time to run, if something were to happen, like: a disconnect;\n",
      "gremlins; computer repair by associates of Rudy Giuliani; electromagnetic interference from metal trash cans; etc.;\n",
      "you could lose a lot of progress. Enabling caching will allow you to immediately recover all the successful\n",
      "subqueries if that happens.\n",
      "  warnings.warn(_OVERSIZE_WARNING)\n"
     ]
    },
    {
     "name": "stdout",
     "output_type": "stream",
     "text": [
      "Skipping offseason dates\n"
     ]
    },
    {
     "name": "stderr",
     "output_type": "stream",
     "text": [
      "100%|██████████| 201/201 [03:59<00:00,  1.19s/it]\n"
     ]
    },
    {
     "name": "stdout",
     "output_type": "stream",
     "text": [
      "Special group threshold positive_rate >= 0.3260\n",
      "Mann-Whitney U test: stat=64827.0000, p=4.391e-74\n",
      "Proportions Z-test: stat=24.6641, p=1.298e-134\n",
      "Fisher's Exact test: oddsratio=1.2934, p=4.222e-133\n",
      "\n",
      "Positive Event Percentages by Count State:\n",
      "  even: 27.31%\n",
      "  hitter_adv: 46.61%\n",
      "  pitcher_adv: 20.70%\n",
      "\n",
      "2024 Positive Event Distribution Table:\n",
      "group             others   special\n",
      "events                            \n",
      "catcher_interf  0.001684  0.002038\n",
      "double          0.140466  0.134761\n",
      "hit_by_pitch    0.034064  0.038997\n",
      "home_run        0.093491  0.102019\n",
      "single          0.472277  0.433994\n",
      "triple          0.013013  0.011799\n",
      "walk            0.245005  0.276393\n"
     ]
    },
    {
     "data": {
      "image/png": "[encoded data removed]",
      "text/plain": [
       "<Figure size 800x500 with 1 Axes>"
      ]
     },
     "metadata": {},
     "output_type": "display_data"
    },
    {
     "name": "stdout",
     "output_type": "stream",
     "text": [
      "\n",
      "---- 2024 Sezonu ----\n",
      "Special threshold (positive_rate): 0.3260\n",
      "Special oyuncu sayısı: 147\n",
      "Others oyuncu sayısı: 441\n",
      "Mann-Whitney U testi p değeri: 4.391e-74\n",
      "Proportions Z-testi p değeri: 1.298e-134\n",
      "Fisher Exact testi p değeri: 4.222e-133\n",
      "Logistic Regression (is_special) coef ve p-değeri:\n",
      "  coef=0.2572, p=2.271e-119\n",
      "GEE Model (is_special) coef ve p-değeri:\n",
      "  coef=0.2572, p=1.878e-119\n"
     ]
    }
   ],
   "source": [
    "years = 2024\n",
    "all_results = {}\n",
    "\n",
    "df, pivot, weighted_ratios, tests = analyze_and_compare(years)\n",
    "if df is not None:\n",
    "    all_results[years] = {\n",
    "        'df': df,\n",
    "        'pivot': pivot,\n",
    "        'weighted_ratios': weighted_ratios,\n",
    "        'tests': tests\n",
    "    }\n",
    "    plot_positive_event_distribution(df, years)\n",
    "\n",
    "# Özet istatistik sonuçları:\n",
    "for y, res in all_results.items():\n",
    "    print(f\"\\n---- {y} Sezonu ----\")\n",
    "    print(f\"Special threshold (positive_rate): {res['tests']['special_threshold']:.4f}\")\n",
    "    print(f\"Special oyuncu sayısı: {res['tests']['special_count']}\")\n",
    "    print(f\"Others oyuncu sayısı: {res['tests']['others_count']}\")\n",
    "    print(f\"Mann-Whitney U testi p değeri: {res['tests']['mwu_p']:.4g}\")\n",
    "    print(f\"Proportions Z-testi p değeri: {res['tests']['z_p']:.4g}\")\n",
    "    print(f\"Fisher Exact testi p değeri: {res['tests']['fisher_p']:.4g}\")\n",
    "\n",
    "    print(\"Logistic Regression (is_special) coef ve p-değeri:\")\n",
    "    if res['tests']['logit_summary'] is not None:\n",
    "        coef = res['tests']['logit_summary'].loc['is_special']\n",
    "        print(f\"  coef={coef['Coef.']:.4f}, p={coef['P>|z|']:.4g}\")\n",
    "    else:\n",
    "        print(\"  Model başarısız.\")\n",
    "\n",
    "    print(\"GEE Model (is_special) coef ve p-değeri:\")\n",
    "    if res['tests']['gee_summary'] is not None:\n",
    "        coef = res['tests']['gee_summary'].loc['is_special']\n",
    "        print(f\"  coef={coef['Coef.']:.4f}, p={coef['P>|z|']:.4g}\")\n",
    "    else:\n",
    "        print(\"  Model başarısız.\")\n"
   ]
  }
 ],
 "metadata": {
  "kernelspec": {
   "display_name": "Python 3",
   "language": "python",
   "name": "python3"
  },
  "language_info": {
   "codemirror_mode": {
    "name": "ipython",
    "version": 3
   },
   "file_extension": ".py",
   "mimetype": "text/x-python",
   "name": "python",
   "nbconvert_exporter": "python",
   "pygments_lexer": "ipython3",
   "version": "3.13.6"
  }
 },
 "nbformat": 4,
 "nbformat_minor": 5
}
